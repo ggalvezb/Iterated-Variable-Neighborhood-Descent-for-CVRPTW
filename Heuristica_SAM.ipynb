{
 "cells": [
  {
   "cell_type": "markdown",
   "metadata": {},
   "source": [
    "# Heuristica SAM\n",
    "\n",
    "Acá se realizará una heuristica que capture el problema de la empresa SAM, este es un problema de reparto de productos, considerando un vehículo con una carga limitada y ventanas de tiempo para cada cliente. Este será resuelto por un algoritmo greedy considerando una clusterización de K-means"
   ]
  },
  {
   "cell_type": "markdown",
   "metadata": {},
   "source": [
    "# Librerias"
   ]
  },
  {
   "cell_type": "code",
   "execution_count": 2,
   "metadata": {},
   "outputs": [],
   "source": [
    "import googlemaps\n",
    "import pandas as pd\n",
    "import numpy as np\n",
    "import sklearn.datasets\n",
    "import sklearn.cluster\n",
    "import matplotlib.pyplot as plt\n",
    "from itertools import cycle\n",
    "from mpl_toolkits.mplot3d import Axes3D\n",
    "from sklearn.cluster import AgglomerativeClustering\n",
    "import networkx as nx\n",
    "import sys\n",
    "import random\n",
    "import itertools\n",
    "import copy\n",
    "import time"
   ]
  },
  {
   "cell_type": "markdown",
   "metadata": {},
   "source": [
    "# Lectura de Datos"
   ]
  },
  {
   "cell_type": "code",
   "execution_count": 3,
   "metadata": {},
   "outputs": [],
   "source": [
    "tiempos = np.load('distancia.npy').astype(int)\n",
    "distancias = np.load('tiempos.npy').astype(int)\n",
    "coordenadas=np.load('coordenadas.npy')\n",
    "vehiculos=4\n",
    "productos=2\n",
    "capacidad=3\n",
    "volumen=0.024\n",
    "abren=[0 for i in range(len(coordenadas))]\n",
    "cierre=[480 for i in range(len(coordenadas))]\n",
    "servicio=[20 for i in range(len(coordenadas))]\n",
    "demanda=[(1,2) for i in range(len(coordenadas))]"
   ]
  },
  {
   "cell_type": "code",
   "execution_count": 4,
   "metadata": {},
   "outputs": [
    {
     "data": {
      "text/plain": [
       "array([[-33.6316638, -70.7103613],\n",
       "       [-33.6316638, -70.7103613],\n",
       "       [-33.633671 , -70.7092268],\n",
       "       [-33.5990142, -70.7053702],\n",
       "       [-33.5034955, -70.7383777],\n",
       "       [-33.3662205, -70.6784764],\n",
       "       [-33.3891362, -70.6182044],\n",
       "       [-33.424301 , -70.6534809],\n",
       "       [-33.4488897, -70.6692655],\n",
       "       [-33.5264495, -70.6613511],\n",
       "       [-33.5384435, -70.6637835],\n",
       "       [-33.5384435, -70.6637835],\n",
       "       [-33.5384435, -70.6637835],\n",
       "       [-33.5384435, -70.6637835],\n",
       "       [-33.4453173, -70.6506813],\n",
       "       [-33.5107421, -70.6064993],\n",
       "       [-33.5107421, -70.6064993],\n",
       "       [-33.5194969, -70.6009383],\n",
       "       [-33.5107421, -70.6064993],\n",
       "       [-33.5194969, -70.6009383],\n",
       "       [-33.5186331, -70.5995848],\n",
       "       [-33.521776 , -70.58357  ],\n",
       "       [-33.4390523, -70.5730136],\n",
       "       [-33.4457823, -70.5718992],\n",
       "       [-33.4524377, -70.5694704],\n",
       "       [-33.390873 , -70.546284 ],\n",
       "       [-33.4398191, -70.6530179],\n",
       "       [-33.413517 , -70.5832512],\n",
       "       [-33.4283651, -70.5394065],\n",
       "       [-33.390873 , -70.546284 ],\n",
       "       [-33.4300363, -70.5787364],\n",
       "       [-33.4108191, -70.5742302],\n",
       "       [-33.3918484, -70.5009255],\n",
       "       [-33.4000727, -70.5094295],\n",
       "       [-33.3836546, -70.5306534],\n",
       "       [-33.35758  , -70.515266 ],\n",
       "       [-33.35758  , -70.515266 ],\n",
       "       [-33.4709732, -70.6191861],\n",
       "       [-33.4800164, -70.7517667],\n",
       "       [-33.5219455, -70.7328715],\n",
       "       [-33.511308 , -70.7522977],\n",
       "       [-33.5096534, -70.7572264],\n",
       "       [-33.4652249, -70.5981058],\n",
       "       [-33.4539045, -70.6057084],\n",
       "       [-33.471778 , -70.5987953],\n",
       "       [-33.4881314, -70.5567987],\n",
       "       [-33.487595 , -70.577983 ],\n",
       "       [-33.4384287, -70.6338463],\n",
       "       [-33.442219 , -70.63825  ],\n",
       "       [-33.4313627, -70.5853449],\n",
       "       [-33.423462 , -70.612325 ],\n",
       "       [-33.4182961, -70.6017483],\n",
       "       [-33.4177376, -70.607335 ],\n",
       "       [-33.4177376, -70.607335 ],\n",
       "       [-33.4266852, -70.5912071],\n",
       "       [-33.4330236, -70.614987 ],\n",
       "       [-33.4330236, -70.614987 ],\n",
       "       [-33.4353601, -70.614737 ],\n",
       "       [-33.4344582, -70.6333755],\n",
       "       [-33.4346438, -70.6340242],\n",
       "       [-33.4178073, -70.6078063],\n",
       "       [-33.3905115, -70.7938043],\n",
       "       [-33.3905115, -70.7938043],\n",
       "       [-33.3905115, -70.7938043],\n",
       "       [-33.3905115, -70.7938043],\n",
       "       [-33.5782061, -70.5827438],\n",
       "       [-33.609481 , -70.5754569],\n",
       "       [-33.6260686, -70.5754256],\n",
       "       [-33.6292001, -70.5773007],\n",
       "       [-33.3346768, -70.7123899],\n",
       "       [-33.453101 , -70.6558183],\n",
       "       [-33.453101 , -70.6558183],\n",
       "       [-33.4294799, -70.6471745],\n",
       "       [-33.4488897, -70.6692655],\n",
       "       [-33.4223592, -70.6450874],\n",
       "       [-33.4998978, -70.6161139],\n",
       "       [-33.4887051, -70.6514323],\n",
       "       [-33.4488897, -70.6692655],\n",
       "       [-33.4545597, -70.6051332],\n",
       "       [-33.4653992, -70.5973269],\n",
       "       [-33.4876608, -70.7436218],\n",
       "       [-33.4384805, -70.6511403],\n",
       "       [-33.4381215, -70.6582956],\n",
       "       [-33.4401751, -70.6398026],\n",
       "       [-33.4472573, -70.6573229],\n",
       "       [-33.4452849, -70.6534406],\n",
       "       [-33.4402143, -70.6494086],\n",
       "       [-33.3840919, -70.6150925],\n",
       "       [-33.4120185, -70.5780177],\n",
       "       [-33.4151078, -70.5893503],\n",
       "       [-33.4109811, -70.5756405],\n",
       "       [-33.4168322, -70.597842 ],\n",
       "       [-33.4176796, -70.5998897],\n",
       "       [-33.41339  , -70.581479 ],\n",
       "       [-33.4042766, -70.5742885],\n",
       "       [-33.4021787, -70.5241016],\n",
       "       [-33.4217099, -70.576966 ],\n",
       "       [-33.4173238, -70.5670845],\n",
       "       [-33.4178947, -70.5569276],\n",
       "       [-33.4160134, -70.6028121],\n",
       "       [-33.416334 , -70.6005278],\n",
       "       [-33.416685 , -70.594934 ],\n",
       "       [-33.3918861, -70.5926168],\n",
       "       [-33.4139199, -70.5931738],\n",
       "       [-33.3956363, -70.5053184],\n",
       "       [-33.4180139, -70.5972517],\n",
       "       [-33.4072912, -70.5648677],\n",
       "       [-33.3764851, -70.5248934],\n",
       "       [-33.4173238, -70.5670845],\n",
       "       [-33.3555863, -70.5351105],\n",
       "       [-33.456597 , -70.6138486],\n",
       "       [-33.4483756, -70.5911056],\n",
       "       [-33.48716  , -70.559058 ],\n",
       "       [-33.4278423, -70.6075577],\n",
       "       [-33.4379004, -70.6034848],\n",
       "       [-33.4236914, -70.6104261],\n",
       "       [-33.4483823, -70.576549 ],\n",
       "       [-33.4245472, -70.616125 ],\n",
       "       [-33.4202826, -70.6022173],\n",
       "       [-33.4466075, -70.6028283],\n",
       "       [-33.4390756, -70.6157943],\n",
       "       [-33.4255134, -70.6135976],\n",
       "       [-33.420184 , -70.6073874],\n",
       "       [-33.4545597, -70.6051332],\n",
       "       [-33.4259556, -70.6160433],\n",
       "       [-33.4290857, -70.6102205],\n",
       "       [-33.4195484, -70.6044529],\n",
       "       [-33.4198636, -70.6062315],\n",
       "       [-33.4479343, -70.6614971],\n",
       "       [-33.4377141, -70.6361513],\n",
       "       [-33.441138 , -70.652008 ],\n",
       "       [-33.402796 , -70.591406 ],\n",
       "       [-33.3874315, -70.5767961],\n",
       "       [-33.4030968, -70.5947707],\n",
       "       [-33.3974404, -70.5822221]])"
      ]
     },
     "execution_count": 4,
     "metadata": {},
     "output_type": "execute_result"
    }
   ],
   "source": [
    "coordenadas"
   ]
  },
  {
   "cell_type": "code",
   "execution_count": 700,
   "metadata": {},
   "outputs": [
    {
     "name": "stdout",
     "output_type": "stream",
     "text": [
      "tiempos=  [[9999999       0     410 ...    1706    1541    1726]\n",
      " [      0 9999999     410 ...    1706    1541    1726]\n",
      " [     84      84 9999999 ...    1790    1624    1809]\n",
      " ...\n",
      " [   1949    1949    1986 ... 9999999     488     214]\n",
      " [   1739    1739    1777 ...     414 9999999     276]\n",
      " [   1757    1757    1795 ...     308     314 9999999]]\n",
      "\n",
      " distancias=  [[9999999       0    3862 ...   38163   32619   35533]\n",
      " [      0 9999999    3862 ...   38163   32619   35533]\n",
      " [    642     642 9999999 ...   38805   33261   36176]\n",
      " ...\n",
      " [  40062   40062   40277 ... 9999999    3363    1412]\n",
      " [  34838   34838   35053 ...    2543 9999999    1374]\n",
      " [  36075   36075   36290 ...    2017    2173 9999999]]\n"
     ]
    }
   ],
   "source": [
    "print(\"tiempos= \",tiempos)\n",
    "print(\"\\n distancias= \", distancias)"
   ]
  },
  {
   "cell_type": "markdown",
   "metadata": {},
   "source": [
    "# Clusterizacion de datos"
   ]
  },
  {
   "cell_type": "code",
   "execution_count": 701,
   "metadata": {},
   "outputs": [
    {
     "data": {
      "image/png": "[encoded data removed]",
      "text/plain": [
       "<Figure size 432x288 with 1 Axes>"
      ]
     },
     "metadata": {},
     "output_type": "display_data"
    }
   ],
   "source": [
    "#Datos sin clusterizar\n",
    "X=coordenadas\n",
    "fig = plt.figure(1)\n",
    "ax = fig.add_subplot(111)\n",
    "ax.set_xlabel('X Label')\n",
    "ax.set_ylabel('Y Label')\n",
    "\n",
    "for i in range(len(coordenadas)):\n",
    "    ax.scatter(X[i][0], X[i][1], marker='.')\n",
    "plt.show()\n",
    "fig.savefig('Puntos_Georef.png')"
   ]
  },
  {
   "cell_type": "code",
   "execution_count": 702,
   "metadata": {},
   "outputs": [
    {
     "data": {
      "image/png": "[encoded data removed]",
      "text/plain": [
       "<Figure size 432x288 with 1 Axes>"
      ]
     },
     "metadata": {},
     "output_type": "display_data"
    }
   ],
   "source": [
    "#Datos clusterizados\n",
    "data=coordenadas\n",
    "k_means = sklearn.cluster.KMeans(5)\n",
    "clusters_kmeans=k_means.fit(data)\n",
    "lebels_cluster_kmeans=clusters_kmeans.labels_\n",
    "n_clusters_kmeans = lebels_cluster_kmeans.max()+1\n",
    "cluster_centers_kmeans = clusters_kmeans.cluster_centers_\n",
    "\n",
    "\n",
    "#Graficar clusters\n",
    "X=data\n",
    "fig = plt.figure(1)\n",
    "ax = fig.add_subplot(111)\n",
    "ax.set_xlabel('X Label')\n",
    "ax.set_ylabel('Y Label')\n",
    "\n",
    "labels1=lebels_cluster_kmeans\n",
    "\n",
    " \n",
    "colors = cycle('bgrcmykbgrcmykbgrcmykbgrcmyk')\n",
    "for k, col in zip(range(n_clusters_kmeans), colors):\n",
    "    my_members = labels1 == k\n",
    "    cluster_center = cluster_centers_kmeans[k]\n",
    "    ax.scatter(X[my_members, 0], X[my_members, 1], c=col, marker='.')\n",
    "plt.show()"
   ]
  },
  {
   "cell_type": "code",
   "execution_count": 703,
   "metadata": {},
   "outputs": [],
   "source": [
    "puntos_cluster={}\n",
    "for a in range(n_clusters_kmeans):\n",
    "    puntos_cluster[a]=list(data[i] for i in range(len(data)) if lebels_cluster_kmeans[i]==a ) "
   ]
  },
  {
   "cell_type": "markdown",
   "metadata": {},
   "source": [
    "# Greedy"
   ]
  },
  {
   "cell_type": "code",
   "execution_count": 749,
   "metadata": {},
   "outputs": [],
   "source": [
    "def greedy():\n",
    "    tiempos = np.load('distancia.npy').astype(int)\n",
    "    distancias = np.load('tiempos.npy').astype(int)\n",
    "    coordenadas=np.load('coordenadas.npy')\n",
    "    vehiculos=4\n",
    "    productos=2\n",
    "    capacidad=3\n",
    "    volumen=0.024\n",
    "    abren=[0 for i in range(len(coordenadas))]\n",
    "    cierre=[480 for i in range(len(coordenadas))]\n",
    "    servicio=[20 for i in range(len(coordenadas))]\n",
    "    demanda=[(1,2) for i in range(len(coordenadas))]\n",
    "    vehiculo=0\n",
    "    capacidad=3\n",
    "    FO=0\n",
    "    distancias = np.load('tiempos.npy').astype(int)\n",
    "    nodos_por_visitar=[i for i in range(len(coordenadas))]\n",
    "    inicio=0\n",
    "    nodos_por_visitar.remove(inicio)\n",
    "    nodos_visitados=[]\n",
    "    nodos_visitados.append(inicio)\n",
    "    nodo_actual=np.argmin(distancias[inicio])\n",
    "    distancia=np.min(distancias[inicio])\n",
    "    FO+=distancia\n",
    "    ruta_vehiculo={}\n",
    "    ruta_vehiculo_iteracion=[]\n",
    "    flag=0\n",
    "    time=0\n",
    "    while len(nodos_por_visitar)!=1:\n",
    "        while capacidad>=0.09:\n",
    "            try:\n",
    "                a=nodo_actual\n",
    "                nodos_por_visitar.remove(nodo_actual)\n",
    "                for i in range(len(nodos_visitados)):\n",
    "                    distancias[nodo_actual][nodos_visitados[i]]=999999\n",
    "                nodos_visitados.append(nodo_actual)\n",
    "                ruta_vehiculo_iteracion.append(nodo_actual)\n",
    "                distancia=np.min(distancias[nodo_actual])\n",
    "                FO+=distancia\n",
    "                nodo_actual=np.argmin(distancias[nodo_actual])\n",
    "                b=nodo_actual\n",
    "                time+=(tiempos[a][b]/60)+20\n",
    "                if (time/60)>400:\n",
    "                    break\n",
    "                capacidad-=0.072\n",
    "            except:\n",
    "                flag=1\n",
    "                break\n",
    "        if flag==1:\n",
    "            break\n",
    "#         print(\"tiempo usado \"+str(time/60)+\" capacidad usada \"+str(3-capacidad))    \n",
    "#         print(\"CAMBIO VEHICULO\")    \n",
    "        ruta_vehiculo[vehiculo]=ruta_vehiculo_iteracion\n",
    "        vehiculo+=1\n",
    "        time=0\n",
    "        capacidad=3\n",
    "        ruta_vehiculo_iteracion=[]\n",
    "\n",
    "    nodos_visitados.append(nodo_actual)\n",
    "    FO+=distancias[nodo_actual][0]\n",
    "    nodos_visitados.append(0)\n",
    "    for i in range(len(ruta_vehiculo)):\n",
    "        ruta_vehiculo[i]=[0]+ruta_vehiculo[i]+[0]\n",
    "    distancias = np.load('tiempos.npy').astype(int)\n",
    "    FO=fitnes_diccionario(ruta_vehiculo)\n",
    "#     print(FO)\n",
    "    return(ruta_vehiculo)"
   ]
  },
  {
   "cell_type": "code",
   "execution_count": 746,
   "metadata": {},
   "outputs": [
    {
     "name": "stdout",
     "output_type": "stream",
     "text": [
      "418.521\n",
      "{0: [0, 1, 2, 3, 10, 11, 12, 13, 9, 76, 75, 15, 16, 18, 17, 19, 20, 21, 46, 112, 45, 24, 23, 22, 30, 54, 49, 116, 111, 119, 114, 113, 115, 50, 121, 124, 117, 122, 60, 52, 53, 127, 0], 1: [0, 126, 51, 92, 105, 100, 99, 91, 101, 103, 89, 93, 88, 31, 90, 27, 96, 97, 108, 98, 106, 94, 133, 131, 134, 102, 132, 29, 34, 107, 35, 36, 109, 95, 33, 104, 32, 28, 118, 125, 55, 56, 0], 2: [0, 120, 57, 58, 59, 129, 47, 83, 48, 85, 14, 84, 71, 128, 8, 73, 77, 26, 81, 130, 86, 82, 7, 72, 74, 6, 87, 5, 69, 70, 61, 62, 63, 64, 38, 80, 4, 40, 41, 39, 37, 44, 0]}\n"
     ]
    }
   ],
   "source": [
    "ruta_vehiculo=greedy()\n",
    "print(ruta_vehiculo)"
   ]
  },
  {
   "cell_type": "markdown",
   "metadata": {},
   "source": [
    "# ILS VND"
   ]
  },
  {
   "cell_type": "markdown",
   "metadata": {},
   "source": [
    "## Función calcula FO"
   ]
  },
  {
   "cell_type": "code",
   "execution_count": 705,
   "metadata": {},
   "outputs": [],
   "source": [
    "def fitnes_diccionario(ruta_vehiculo):\n",
    "    FO=0\n",
    "    for i in range(len(ruta_vehiculo)):\n",
    "        for j in range(len(ruta_vehiculo.get(i))-1):\n",
    "            a=ruta_vehiculo.get(i)[j]\n",
    "            b=ruta_vehiculo.get(i)[j+1]\n",
    "            FO+=distancias[a][b]\n",
    "    FO=FO/1000\n",
    "    return(FO)"
   ]
  },
  {
   "cell_type": "code",
   "execution_count": 706,
   "metadata": {},
   "outputs": [],
   "source": [
    "def fitnes_lista(lista):\n",
    "    FO=0\n",
    "    for i in range(len(lista)-1):\n",
    "        a=lista[i]\n",
    "        b=lista[i+1]\n",
    "        FO+=distancias[a][b]\n",
    "    FO=FO/1000\n",
    "    return(FO)"
   ]
  },
  {
   "cell_type": "markdown",
   "metadata": {},
   "source": [
    "## Funcion evaluadora de factibilidad"
   ]
  },
  {
   "cell_type": "code",
   "execution_count": 707,
   "metadata": {},
   "outputs": [],
   "source": [
    "def factibilidad_lista(solucion):\n",
    "    flag_tiempo=False\n",
    "    flag_capacidad=False\n",
    "    tiempo=0\n",
    "    capacidad=0\n",
    "    for i in range(len(solucion)-1):\n",
    "        a=solucion[i]\n",
    "        b=solucion[i+1]\n",
    "        tiempo+=tiempos[a][b]\n",
    "    capacidad+=len(solucion)*0.072\n",
    "#     print(\"tiempo \"+str(tiempo/60)+\" capacidad \"+str(capacidad))\n",
    "    if (tiempo/60)>480: #si no se cumple la restriccion se activa el flag\n",
    "        flag_tiempo=True\n",
    "    if capacidad>3.3:\n",
    "        flag_capacidad=True\n",
    "    return(flag_tiempo,flag_capacidad)    "
   ]
  },
  {
   "cell_type": "markdown",
   "metadata": {},
   "source": [
    "## Funcion para copiar diccionarios"
   ]
  },
  {
   "cell_type": "code",
   "execution_count": 708,
   "metadata": {},
   "outputs": [],
   "source": [
    "def construir_copia_dic(diccionario_a_copiar):\n",
    "    dic_copiado={}\n",
    "    for i in range(len(diccionario_a_copiar)):\n",
    "        dic_copiado[i]=[]\n",
    "    for i in range(len(diccionario_a_copiar)):\n",
    "        for j in range(len(diccionario_a_copiar.get(i))):\n",
    "            dic_copiado[i].append(diccionario_a_copiar[i][j])\n",
    "    return(dic_copiado)    "
   ]
  },
  {
   "cell_type": "markdown",
   "metadata": {},
   "source": [
    "## Local Search en la misma ruta"
   ]
  },
  {
   "cell_type": "code",
   "execution_count": 737,
   "metadata": {},
   "outputs": [],
   "source": [
    "def relocation_intra_ruta(ruta_vehiculo):\n",
    "    #Genero una copia del diccionario y elementos para iterarlos\n",
    "    copia_ruta=copy.deepcopy(ruta_vehiculo)\n",
    "    id_vehiculo_1=random.randint(0,len(copia_ruta)-1)  \n",
    "    vehiculo_1=copia_ruta.get(id_vehiculo_1)\n",
    "    elemento_1=random.randint(1,len(vehiculo_1)-2)\n",
    "    elemento_2=random.randint(1,len(vehiculo_1)-2)\n",
    "    \n",
    "    #Hago la iteracion de los elementos\n",
    "    vehiculo_1[elemento_1], vehiculo_1[elemento_2] = vehiculo_1[elemento_2], vehiculo_1[elemento_1]\n",
    "    flag_tiempo,flag_capacidad=factibilidad_lista(vehiculo_1)\n",
    "    if flag_tiempo==False and flag_capacidad==False:\n",
    "        #si hay una solucion factible evaluo los fitness\n",
    "        dict_copia_temp=copy.deepcopy(ruta_vehiculo)\n",
    "        dict_copia_temp[id_vehiculo_1]=vehiculo_1        \n",
    "        FO_temporal=fitnes_diccionario(dict_copia_temp)\n",
    "        FO_original=fitnes_diccionario(ruta_vehiculo)\n",
    "        if FO_temporal<FO_original:\n",
    "            #Actualizo solucion\n",
    "#             print(\"funcion objetivo: \",FO_temporal,\"en tiempo\",time.time()-start)\n",
    "            ruta_vehiculo=copy.deepcopy(dict_copia_temp)\n",
    "        else:\n",
    "            #si no mejora la solucion desago el cambio realizado\n",
    "            vehiculo_1[elemento_1], vehiculo_1[elemento_2] = vehiculo_1[elemento_2], vehiculo_1[elemento_1]\n",
    "            copia_ruta[id_vehiculo]=vehiculo_1\n",
    "            ruta_vehiculo=copy.deepcopy(copia_ruta)\n",
    "    else:\n",
    "        #si no encuentro slcuon factible desago el cambio\n",
    "        vehiculo_1[elemento_1], vehiculo_1[elemento_2] = vehiculo_1[elemento_2], vehiculo_1[elemento_1]\n",
    "        copia_ruta[id_vehiculo]=vehiculo_1\n",
    "        ruta_vehiculo=copy.deepcopy(copia_ruta)\n",
    "    #preparo los datos para su salida    \n",
    "    FO_inicial=fitnes_diccionario(ruta_vehiculo)\n",
    "    FO_final=fitnes_diccionario(ruta_vehiculo)\n",
    "    return(FO_final,ruta_vehiculo)\n"
   ]
  },
  {
   "cell_type": "markdown",
   "metadata": {},
   "source": [
    "## Local search para inter rutas"
   ]
  },
  {
   "cell_type": "code",
   "execution_count": 738,
   "metadata": {},
   "outputs": [],
   "source": [
    "#Aca inicia la funcion \n",
    "def relocation_inter_ruta(ruta_vehiculo):\n",
    "    #Genero una copia para poder trabajar con el diccionario sin perderlo\n",
    "    copia_ruta=copy.deepcopy(ruta_vehiculo)\n",
    "    #selecciono vehiculos y elementos aleatorios para iterarlos\n",
    "    id_vehiculo_1=random.randint(0,len(copia_ruta)-1)\n",
    "    id_vehiculo_2=random.randint(0,len(copia_ruta)-1)    \n",
    "    vehiculo_1=copia_ruta.get(id_vehiculo_1)\n",
    "    vehiculo_2=copia_ruta.get(id_vehiculo_2)\n",
    "    elemento_1=random.randint(1,len(vehiculo_1)-2)\n",
    "    elemento_2=random.randint(1,len(vehiculo_2)-2)\n",
    "    #hago el cambio de elementos entre las rutas\n",
    "    vehiculo_1[elemento_1], vehiculo_2[elemento_2] = vehiculo_2[elemento_2], vehiculo_1[elemento_1]\n",
    "    #reviso su factibilidad\n",
    "    flag_tiempo_1,flag_capacidad_1=factibilidad_lista(vehiculo_1)\n",
    "    flag_tiempo_2,flag_capacidad_2=factibilidad_lista(vehiculo_2)\n",
    "\n",
    "    if flag_tiempo_1==False and flag_capacidad_1==False and flag_tiempo_2==False and flag_capacidad_2==False:\n",
    "        #Si es factible genero una copia para evaluar su fiteness\n",
    "        dict_copia_temp=copy.deepcopy(ruta_vehiculo)\n",
    "        dict_copia_temp[id_vehiculo_1]=vehiculo_1\n",
    "        dict_copia_temp[id_vehiculo_2]=vehiculo_2\n",
    "        FO_temporal=fitnes_diccionario(dict_copia_temp)\n",
    "        FO_original=fitnes_diccionario(ruta_vehiculo)\n",
    "        if FO_temporal<FO_original:\n",
    "            #si me mejora la solucion, actualizo la solucion anterior\n",
    "            ruta_vehiculo=copy.deepcopy(dict_copia_temp)\n",
    "#             print(\"Funcion objetivo\",FO_temporal,\"en tiempo\",time.time()-start)\n",
    "        else:\n",
    "            #en caso de que no mejore desago el cambio\n",
    "            vehiculo_1[elemento_1], vehiculo_2[elemento_2] = vehiculo_2[elemento_2], vehiculo_1[elemento_1]\n",
    "            ruta_vehiculo[id_vehiculo_1]=vehiculo_1\n",
    "            ruta_vehiculo[id_vehiculo_2]=vehiculo_2\n",
    "    else:\n",
    "        vehiculo_1[elemento_1], vehiculo_2[elemento_2] = vehiculo_2[elemento_2], vehiculo_1[elemento_1]\n",
    "        \n",
    "    #En caso de que no haya una solucion factible, desago el cambio y si hay preparo los parametros para su salida    \n",
    "    FO=fitnes_diccionario(ruta_vehiculo)\n",
    "    \n",
    "    ruta_vehiculo[id_vehiculo_1]=vehiculo_1\n",
    "    ruta_vehiculo[id_vehiculo_2]=vehiculo_2\n",
    "    FO=fitnes_diccionario(ruta_vehiculo)\n",
    "    return(FO,ruta_vehiculo)            "
   ]
  },
  {
   "cell_type": "markdown",
   "metadata": {},
   "source": [
    "## Funcion Local Search para relocation"
   ]
  },
  {
   "cell_type": "code",
   "execution_count": 711,
   "metadata": {},
   "outputs": [],
   "source": [
    "def relocation(ruta_vehiculo,FO,inter,intra):\n",
    "    if inter==1:\n",
    "        FO,ruta_vehiculo=relocation_inter_ruta(ruta_vehiculo)\n",
    "    \n",
    "    elif intra==1:\n",
    "        FO,ruta_vehiculo=relocation_intra_ruta(ruta_vehiculo)    \n",
    "    \n",
    "    return(ruta_vehiculo,FO)        "
   ]
  },
  {
   "cell_type": "markdown",
   "metadata": {},
   "source": [
    "## MAIN"
   ]
  },
  {
   "cell_type": "code",
   "execution_count": 751,
   "metadata": {},
   "outputs": [
    {
     "name": "stdout",
     "output_type": "stream",
     "text": [
      "Tiempo de ejecución=  16.34827423095703  funcion objetivo=  342.519  Iteracion=  0\n",
      "Tiempo de ejecución=  15.146158456802368  funcion objetivo=  344.293  Iteracion=  1\n",
      "Tiempo de ejecución=  15.338184595108032  funcion objetivo=  346.426  Iteracion=  2\n",
      "Tiempo de ejecución=  15.47738242149353  funcion objetivo=  360.85  Iteracion=  3\n",
      "Tiempo de ejecución=  15.25621771812439  funcion objetivo=  341.358  Iteracion=  4\n",
      "Tiempo de ejecución=  15.15504789352417  funcion objetivo=  342.115  Iteracion=  5\n",
      "Tiempo de ejecución=  15.291088581085205  funcion objetivo=  346.288  Iteracion=  6\n",
      "Tiempo de ejecución=  15.283130168914795  funcion objetivo=  341.171  Iteracion=  7\n",
      "Tiempo de ejecución=  15.198357343673706  funcion objetivo=  361.547  Iteracion=  8\n",
      "Tiempo de ejecución=  16.4653582572937  funcion objetivo=  350.138  Iteracion=  9\n",
      "Tiempo de ejecución=  18.61261010169983  funcion objetivo=  361.534  Iteracion=  10\n",
      "Tiempo de ejecución=  15.573871850967407  funcion objetivo=  347.557  Iteracion=  11\n",
      "Tiempo de ejecución=  16.16148591041565  funcion objetivo=  341.554  Iteracion=  12\n",
      "Tiempo de ejecución=  16.14854645729065  funcion objetivo=  359.607  Iteracion=  13\n",
      "Tiempo de ejecución=  16.157151460647583  funcion objetivo=  343.309  Iteracion=  14\n",
      "Tiempo de ejecución=  17.018332481384277  funcion objetivo=  360.506  Iteracion=  15\n",
      "Tiempo de ejecución=  16.514537811279297  funcion objetivo=  360.85  Iteracion=  16\n",
      "Tiempo de ejecución=  15.972398519515991  funcion objetivo=  363.464  Iteracion=  17\n",
      "Tiempo de ejecución=  16.34042978286743  funcion objetivo=  360.28  Iteracion=  18\n",
      "Tiempo de ejecución=  17.652889251708984  funcion objetivo=  342.115  Iteracion=  19\n",
      "Tiempo de ejecución=  16.313257455825806  funcion objetivo=  360.673  Iteracion=  20\n",
      "Tiempo de ejecución=  16.078015327453613  funcion objetivo=  357.379  Iteracion=  21\n",
      "Tiempo de ejecución=  17.04367756843567  funcion objetivo=  347.291  Iteracion=  22\n",
      "Tiempo de ejecución=  16.306781768798828  funcion objetivo=  341.528  Iteracion=  23\n",
      "Tiempo de ejecución=  16.783024549484253  funcion objetivo=  363.36  Iteracion=  24\n",
      "Tiempo de ejecución=  18.32727837562561  funcion objetivo=  360.12  Iteracion=  25\n",
      "Tiempo de ejecución=  16.984395503997803  funcion objetivo=  360.006  Iteracion=  26\n",
      "Tiempo de ejecución=  15.749706506729126  funcion objetivo=  340.913  Iteracion=  27\n",
      "Tiempo de ejecución=  15.4787437915802  funcion objetivo=  342.518  Iteracion=  28\n",
      "Tiempo de ejecución=  15.01570177078247  funcion objetivo=  361.129  Iteracion=  29\n",
      "Tiempo de ejecución=  14.94720721244812  funcion objetivo=  359.84  Iteracion=  30\n",
      "Tiempo de ejecución=  14.997998237609863  funcion objetivo=  341.227  Iteracion=  31\n",
      "Tiempo de ejecución=  15.650195360183716  funcion objetivo=  343.644  Iteracion=  32\n",
      "Tiempo de ejecución=  15.263940572738647  funcion objetivo=  359.509  Iteracion=  33\n",
      "Tiempo de ejecución=  15.219754934310913  funcion objetivo=  345.293  Iteracion=  34\n",
      "Tiempo de ejecución=  15.377900838851929  funcion objetivo=  359.96  Iteracion=  35\n",
      "Tiempo de ejecución=  15.423005819320679  funcion objetivo=  343.877  Iteracion=  36\n",
      "Tiempo de ejecución=  16.803601264953613  funcion objetivo=  343.005  Iteracion=  37\n",
      "Tiempo de ejecución=  15.92401123046875  funcion objetivo=  359.689  Iteracion=  38\n",
      "Tiempo de ejecución=  16.64578366279602  funcion objetivo=  340.768  Iteracion=  39\n",
      "Tiempo de ejecución=  17.107279300689697  funcion objetivo=  342.106  Iteracion=  40\n",
      "Tiempo de ejecución=  16.413002967834473  funcion objetivo=  342.503  Iteracion=  41\n",
      "Tiempo de ejecución=  16.50008726119995  funcion objetivo=  360.896  Iteracion=  42\n",
      "Tiempo de ejecución=  15.714537858963013  funcion objetivo=  364.308  Iteracion=  43\n",
      "Tiempo de ejecución=  15.742007493972778  funcion objetivo=  342.115  Iteracion=  44\n",
      "Tiempo de ejecución=  15.831841468811035  funcion objetivo=  362.672  Iteracion=  45\n",
      "Tiempo de ejecución=  16.11245846748352  funcion objetivo=  363.766  Iteracion=  46\n",
      "Tiempo de ejecución=  16.31967544555664  funcion objetivo=  348.894  Iteracion=  47\n",
      "Tiempo de ejecución=  16.029860973358154  funcion objetivo=  362.154  Iteracion=  48\n",
      "Tiempo de ejecución=  16.164984464645386  funcion objetivo=  346.42  Iteracion=  49\n"
     ]
    }
   ],
   "source": [
    "FO_final=[]\n",
    "tiempo_final=[]\n",
    "for j in range(50):\n",
    "    ruta_vehiculo=greedy()\n",
    "    import time\n",
    "    start=time.time()\n",
    "    i=0\n",
    "    #Exploro el primer vecindario, inter rutas\n",
    "    while i<10000:\n",
    "        ruta_vehiculo,FO=relocation(ruta_vehiculo,FO,1,0)\n",
    "        i+=1\n",
    "    i=0\n",
    "    #Exploro el segundo vecindario, intra rutas\n",
    "    while i<10000:\n",
    "        ruta_vehiculo,FO=relocation(ruta_vehiculo,FO,0,1)\n",
    "        i+=1\n",
    "    end=time.time()    \n",
    "    # print(\"ruta vehiculo terminando las iteraciones= \",ruta_vehiculo,\"\\n\")\n",
    "    # print(FO,\"\\n\")\n",
    "    termino=(end-start)\n",
    "    FO_final.append(FO)\n",
    "    tiempo_final.append(termino)\n",
    "    print(\"Tiempo de ejecución= \",termino,\" funcion objetivo= \",FO,\" Iteracion= \", j)"
   ]
  },
  {
   "cell_type": "code",
   "execution_count": 770,
   "metadata": {},
   "outputs": [
    {
     "name": "stdout",
     "output_type": "stream",
     "text": [
      "{0: [0, 2, 1, 3, 10, 11, 12, 13, 9, 76, 75, 15, 16, 18, 17, 19, 20, 21, 46, 45, 112, 24, 23, 22, 118, 54, 49, 116, 111, 119, 125, 113, 122, 50, 121, 124, 117, 115, 127, 60, 52, 53, 0], 1: [0, 126, 51, 92, 105, 100, 99, 91, 101, 89, 103, 93, 88, 31, 90, 27, 96, 97, 108, 98, 106, 94, 133, 131, 134, 102, 132, 29, 107, 34, 109, 36, 35, 32, 104, 33, 95, 28, 30, 57, 55, 120, 0], 2: [0, 2, 1, 3, 10, 11, 12, 13, 9, 76, 75, 15, 16, 18, 17, 19, 20, 21, 46, 45, 112, 24, 23, 22, 118, 54, 49, 116, 111, 119, 125, 113, 122, 50, 121, 124, 117, 115, 127, 60, 52, 53, 0]}\n"
     ]
    }
   ],
   "source": [
    "print(ruta_vehiculo)"
   ]
  },
  {
   "cell_type": "code",
   "execution_count": 759,
   "metadata": {},
   "outputs": [],
   "source": [
    "iteraciones=[i for i in range(50)]\n"
   ]
  },
  {
   "cell_type": "code",
   "execution_count": 769,
   "metadata": {},
   "outputs": [
    {
     "name": "stdout",
     "output_type": "stream",
     "text": [
      "15.86103349282297\n"
     ]
    }
   ],
   "source": [
    "porcentaje_final=[]\n",
    "for i in range(50):\n",
    "    porcentaje=100-((FO_final[i]*100)/418)\n",
    "    porcentaje_final.append(porcentaje)\n",
    "print(sum(porcentaje_final)/50)    "
   ]
  },
  {
   "cell_type": "code",
   "execution_count": 764,
   "metadata": {},
   "outputs": [
    {
     "data": {
      "image/png": "[encoded data removed]",
      "text/plain": [
       "<Figure size 432x288 with 1 Axes>"
      ]
     },
     "metadata": {},
     "output_type": "display_data"
    }
   ],
   "source": [
    "fig, ax = plt.subplots()\n",
    "ax.plot(iteraciones,FO_final)\n",
    "\n",
    "ax.set(xlabel='Tiempo (s)', ylabel='Función Objetivo (Km)',\n",
    "       title='Resultados')\n",
    "ax.grid()\n",
    "\n",
    "fig.savefig(\"FOfinal.png\")\n",
    "plt.show()"
   ]
  },
  {
   "cell_type": "code",
   "execution_count": 763,
   "metadata": {},
   "outputs": [
    {
     "data": {
      "image/png": "[encoded data removed]",
      "text/plain": [
       "<Figure size 432x288 with 1 Axes>"
      ]
     },
     "metadata": {},
     "output_type": "display_data"
    }
   ],
   "source": [
    "fig, ax = plt.subplots()\n",
    "ax.plot(iteraciones,tiempo_final)\n",
    "\n",
    "ax.set(xlabel='Tiempo (s)', ylabel='Función Objetivo (Km)',\n",
    "       title='Resultados')\n",
    "ax.grid()\n",
    "\n",
    "fig.savefig(\"tiempofinal.png\")\n",
    "plt.show()"
   ]
  },
  {
   "cell_type": "code",
   "execution_count": null,
   "metadata": {},
   "outputs": [],
   "source": []
  },
  {
   "cell_type": "code",
   "execution_count": 752,
   "metadata": {},
   "outputs": [],
   "source": [
    "x=[418.52, 417.28, 415.85, 415.63, 413.32, 413.31, 413.01, 411.89, 411.29, 411.38, 411.18, 410.97, 410.02, 409.39, 372.37, 371.58, 369.51, 368.01, 366.04, 344.78, 344.78,344.78]"
   ]
  },
  {
   "cell_type": "code",
   "execution_count": 753,
   "metadata": {},
   "outputs": [],
   "source": [
    "y=[0.082,0.195,0.319,0.352,1.196,1.345,1.426,2.02,2.533,2.596,3.035,3.88,5.394,6.557,7.798,7.87,7.955,8.1434,8.445,10.41,14.449,14.865]"
   ]
  },
  {
   "cell_type": "code",
   "execution_count": 754,
   "metadata": {},
   "outputs": [
    {
     "data": {
      "image/png": "[encoded data removed]",
      "text/plain": [
       "<Figure size 432x288 with 1 Axes>"
      ]
     },
     "metadata": {},
     "output_type": "display_data"
    }
   ],
   "source": [
    "fig, ax = plt.subplots()\n",
    "ax.plot(y, x)\n",
    "\n",
    "ax.set(xlabel='Tiempo (s)', ylabel='Función Objetivo (Km)',\n",
    "       title='Resultados')\n",
    "ax.grid()\n",
    "\n",
    "fig.savefig(\"test.png\")\n",
    "plt.show()"
   ]
  },
  {
   "cell_type": "code",
   "execution_count": null,
   "metadata": {},
   "outputs": [],
   "source": []
  }
 ],
 "metadata": {
  "kernelspec": {
   "display_name": "Python 3",
   "language": "python",
   "name": "python3"
  },
  "language_info": {
   "codemirror_mode": {
    "name": "ipython",
    "version": 3
   },
   "file_extension": ".py",
   "mimetype": "text/x-python",
   "name": "python",
   "nbconvert_exporter": "python",
   "pygments_lexer": "ipython3",
   "version": "3.5.5"
  }
 },
 "nbformat": 4,
 "nbformat_minor": 2
}
